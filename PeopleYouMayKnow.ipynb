{
 "cells": [
  {
   "cell_type": "code",
   "execution_count": 3,
   "id": "710808bb-aeee-4f24-b7df-35f6484ac627",
   "metadata": {},
   "outputs": [],
   "source": [
    "import json"
   ]
  },
  {
   "cell_type": "code",
   "execution_count": 20,
   "id": "94bdbab1-6aab-4518-8b68-d7fb2131febf",
   "metadata": {},
   "outputs": [
    {
     "name": "stdout",
     "output_type": "stream",
     "text": [
      "{1: 1, 2: 1, 6: 2, 11: 3, 3: 1, 4: 2, 7: 2, 14: 2, 15: 2, 13: 1, 18: 2, 22: 1}\n",
      "[11, 6, 4, 7, 14, 15, 18, 1, 2, 3, 13, 22]\n"
     ]
    }
   ],
   "source": [
    "def load_data(filename):\n",
    "    with open(filename,'r') as file:\n",
    "        data = json.load(file)\n",
    "    return data\n",
    "\n",
    "def mutuals(user_id,data):\n",
    "    user_friends = {}\n",
    "    for user in data['users']:\n",
    "        user_friends[user['id']] = set(user['friends'])\n",
    "    if user_id not in user_friends:\n",
    "        return []\n",
    "\n",
    "    direct_friends = user_friends[user_id]\n",
    "    suggestions = {}\n",
    "    for friend in direct_friends:\n",
    "        for mutual in user_friends[friend]:\n",
    "            if mutual!=user_id and mutual not in direct_friends:\n",
    "                suggestions[mutual] = suggestions.get(mutual,0)+1\n",
    "    sorted_suggestions = sorted(suggestions.items(), key = lambda x:x[1], reverse = True)\n",
    "    print(suggestions)\n",
    "    return [user_id for user_id,mutual_count in sorted_suggestions]\n",
    "\n",
    "\n",
    "data = load_data('massive_data.json')\n",
    "user_id = 10\n",
    "recc = mutuals(user_id,data)\n",
    "print(recc)"
   ]
  },
  {
   "cell_type": "code",
   "execution_count": null,
   "id": "f053f614-695c-41c0-aed3-d49d7eaa8bad",
   "metadata": {},
   "outputs": [],
   "source": []
  }
 ],
 "metadata": {
  "kernelspec": {
   "display_name": "Python 3 (ipykernel)",
   "language": "python",
   "name": "python3"
  },
  "language_info": {
   "codemirror_mode": {
    "name": "ipython",
    "version": 3
   },
   "file_extension": ".py",
   "mimetype": "text/x-python",
   "name": "python",
   "nbconvert_exporter": "python",
   "pygments_lexer": "ipython3",
   "version": "3.12.7"
  }
 },
 "nbformat": 4,
 "nbformat_minor": 5
}
