{
 "cells": [
  {
   "cell_type": "code",
   "execution_count": 4,
   "id": "0d621c04-d188-41f6-9356-fe82c74e23c0",
   "metadata": {},
   "outputs": [],
   "source": [
    "import json"
   ]
  },
  {
   "cell_type": "code",
   "execution_count": 5,
   "id": "e01c694b-37c1-4876-b2f3-64a16abb59ab",
   "metadata": {},
   "outputs": [],
   "source": [
    "#function to read json files...\n",
    "def load_file(filename):\n",
    "    with open(filename,'r') as file:\n",
    "        data = json.load(file)\n",
    "    return data"
   ]
  },
  {
   "cell_type": "code",
   "execution_count": 6,
   "id": "bb8d5d3b-0754-4423-8499-3d58a6811f20",
   "metadata": {},
   "outputs": [
    {
     "data": {
      "text/plain": [
       "{'users': [{'id': 1, 'name': 'Amit', 'friends': [2, 3], 'liked_pages': [101]},\n",
       "  {'id': 2, 'name': 'Priya', 'friends': [1, 4], 'liked_pages': [102]},\n",
       "  {'id': 3, 'name': 'Rahul', 'friends': [1], 'liked_pages': [101, 103]},\n",
       "  {'id': 4, 'name': 'Sara', 'friends': [2], 'liked_pages': [104]}],\n",
       " 'pages': [{'id': 101, 'name': 'Python Developers'},\n",
       "  {'id': 102, 'name': 'Data Science Enthusiasts'},\n",
       "  {'id': 103, 'name': 'AI & ML Community'},\n",
       "  {'id': 104, 'name': 'Web Dev Hub'}]}"
      ]
     },
     "execution_count": 6,
     "metadata": {},
     "output_type": "execute_result"
    }
   ],
   "source": [
    "data = load_file('data.json')\n",
    "data"
   ]
  },
  {
   "cell_type": "code",
   "execution_count": 15,
   "id": "79bf9d6c-d6ec-42f1-a7b6-a3aa3aa5d451",
   "metadata": {},
   "outputs": [],
   "source": [
    "#function to display users and their connections...\n",
    "def disp_users(data):\n",
    "    print(\"Users and Their Connections:\\n\")\n",
    "    for user in data[\"users\"]:\n",
    "        print(f\"{user['id']}.{user['name']}=> Liked Pages:{user['liked_pages']}, Friends:{user['friends']}\")\n",
    "    print(\"\\n\\nPages:\\n\")\n",
    "    for page in data[\"pages\"]:\n",
    "        print(f\"{page['id']}.{page['name']}\")"
   ]
  },
  {
   "cell_type": "code",
   "execution_count": null,
   "id": "7104a54d-cfa0-4e98-89fe-1cdb9b826cf1",
   "metadata": {},
   "outputs": [
    {
     "name": "stdout",
     "output_type": "stream",
     "text": [
      "Users and Their Connections:\n",
      "\n",
      "1.Amit=> Liked Pages:[101], Friends:[2, 3]\n",
      "2.Priya=> Liked Pages:[102], Friends:[1, 4]\n",
      "3.Rahul=> Liked Pages:[101, 103], Friends:[1]\n",
      "4.Sara=> Liked Pages:[104], Friends:[2]\n",
      "\n",
      "\n",
      "Pages:\n",
      "\n",
      "101.Python Developers\n",
      "102.Data Science Enthusiasts\n",
      "103.AI & ML Community\n",
      "104.Web Dev Hub\n"
     ]
    }
   ],
   "source": [
    "data = load_file('data.json')\n",
    "disp_users(data)"
   ]
  }
 ],
 "metadata": {
  "kernelspec": {
   "display_name": "Python 3 (ipykernel)",
   "language": "python",
   "name": "python3"
  },
  "language_info": {
   "codemirror_mode": {
    "name": "ipython",
    "version": 3
   },
   "file_extension": ".py",
   "mimetype": "text/x-python",
   "name": "python",
   "nbconvert_exporter": "python",
   "pygments_lexer": "ipython3",
   "version": "3.12.7"
  }
 },
 "nbformat": 4,
 "nbformat_minor": 5
}
