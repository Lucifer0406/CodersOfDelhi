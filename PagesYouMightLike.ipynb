{
 "cells": [
  {
   "cell_type": "code",
   "execution_count": 21,
   "id": "7a2916dc-41cf-4a4c-a022-ac7b99be9acc",
   "metadata": {},
   "outputs": [
    {
     "name": "stdout",
     "output_type": "stream",
     "text": [
      "{103: 2, 104: 0, 105: 1, 106: 0, 107: 1, 108: 0, 109: 0, 110: 0, 111: 0, 112: 0, 113: 0, 114: 0, 115: 0, 116: 0, 117: 0, 118: 0, 119: 0, 120: 0, 121: 0, 122: 0, 123: 0, 124: 0, 125: 0, 126: 0, 127: 0}\n",
      "\n",
      "Pages you might like for user 1:[103, 105, 107, 104, 106, 108, 109, 110, 111, 112, 113, 114, 115, 116, 117, 118, 119, 120, 121, 122, 123, 124, 125, 126, 127]\n"
     ]
    }
   ],
   "source": [
    "import json\n",
    "\n",
    "def load_file(filename):\n",
    "    with open(filename,'r') as file:\n",
    "        return json.load(file)\n",
    "\n",
    "def mightlikepages(user_id,data):\n",
    "    user_likes = {}\n",
    "    for user in data['users']:\n",
    "        user_likes[user['id']] = set(user['liked_pages'])\n",
    "    if user_id not in user_likes:\n",
    "        return []\n",
    "\n",
    "    user_liked_pages = user_likes[user_id]\n",
    "    page_suggestions = {}\n",
    "    for other_user,pages in user_likes.items():\n",
    "        shared_pages = user_liked_pages.intersection(pages)\n",
    "        for page in pages:\n",
    "            if page not in user_liked_pages:\n",
    "                page_suggestions[page] = page_suggestions.get(page,0) + len(shared_pages)\n",
    "    sorted_pages = sorted(page_suggestions.items(), key = lambda x:x[1], reverse = True)\n",
    "    print(page_suggestions)\n",
    "    return [page_id for page_id,_ in sorted_pages]\n",
    "\n",
    "data = load_file('massive_data.json')\n",
    "user_id = 1\n",
    "page_recommendations = mightlikepages(user_id,data)\n",
    "print(f\"\\nPages you might like for user {user_id}:{page_recommendations}\")"
   ]
  }
 ],
 "metadata": {
  "kernelspec": {
   "display_name": "Python 3 (ipykernel)",
   "language": "python",
   "name": "python3"
  },
  "language_info": {
   "codemirror_mode": {
    "name": "ipython",
    "version": 3
   },
   "file_extension": ".py",
   "mimetype": "text/x-python",
   "name": "python",
   "nbconvert_exporter": "python",
   "pygments_lexer": "ipython3",
   "version": "3.12.7"
  }
 },
 "nbformat": 4,
 "nbformat_minor": 5
}
