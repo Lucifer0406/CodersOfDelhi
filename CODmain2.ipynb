{
 "cells": [
  {
   "cell_type": "code",
   "execution_count": 2,
   "id": "973cf204-a02f-4e0e-8b05-4bbc4460dc01",
   "metadata": {},
   "outputs": [],
   "source": [
    "import json"
   ]
  },
  {
   "cell_type": "code",
   "execution_count": 13,
   "id": "769602c7-3697-49d2-b0e5-96ee3ee6cd1c",
   "metadata": {},
   "outputs": [
    {
     "name": "stdout",
     "output_type": "stream",
     "text": [
      "Data Cleaned Successfully\n"
     ]
    }
   ],
   "source": [
    "#function to clean the data\n",
    "\n",
    "def clean_data(data):\n",
    "    \n",
    "    #remove empty name data\n",
    "    data['users'] = [user for user in data['users'] if user['name'].strip()]\n",
    "    \n",
    "    #remove duplicate friends\n",
    "    for user in data['users']:\n",
    "        user['friends'] = list(set(user['friends']))\n",
    "   \n",
    "    #remove inactive users\n",
    "    data['users'] = [user for user in data['users'] if user['friends'] or user['liked_pages']]\n",
    "   \n",
    "    #remove duplicate pages\n",
    "    unique_pages = {}#here unique_pages is an empty dictionary\n",
    "    #Dictionaries in Python cannot have duplicate keys\n",
    "    for page in data['pages']:\n",
    "        unique_pages[page['id']]=page\n",
    "        #print(unique_pages)\n",
    "        #print(page)\n",
    "    data['pages'] = list(unique_pages.values())\n",
    "   \n",
    "    return data\n",
    "\n",
    "\n",
    "#load the data\n",
    "data = json.load(open('data2.json'))\n",
    "data = clean_data(data)\n",
    "json.dump(data,open('cleanedDATA.json','w'),indent=4)\n",
    "print(\"Data Cleaned Successfully\")"
   ]
  },
  {
   "cell_type": "code",
   "execution_count": 9,
   "id": "ca8985af-52b0-45c8-8b56-24d9b154ee8a",
   "metadata": {},
   "outputs": [
    {
     "name": "stdout",
     "output_type": "stream",
     "text": [
      "<class 'list'>\n"
     ]
    }
   ],
   "source": [
    "print(type(data['pages']))"
   ]
  }
 ],
 "metadata": {
  "kernelspec": {
   "display_name": "Python 3 (ipykernel)",
   "language": "python",
   "name": "python3"
  },
  "language_info": {
   "codemirror_mode": {
    "name": "ipython",
    "version": 3
   },
   "file_extension": ".py",
   "mimetype": "text/x-python",
   "name": "python",
   "nbconvert_exporter": "python",
   "pygments_lexer": "ipython3",
   "version": "3.12.7"
  }
 },
 "nbformat": 4,
 "nbformat_minor": 5
}
